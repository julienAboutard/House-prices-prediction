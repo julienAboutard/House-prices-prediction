{
 "cells": [
  {
   "cell_type": "markdown",
   "metadata": {},
   "source": [
    "# Création et optimisation de l'algorythme de regression du modèle de machine learning  "
   ]
  },
  {
   "cell_type": "markdown",
   "metadata": {},
   "source": []
  }
 ],
 "metadata": {
  "kernelspec": {
   "display_name": "Python 3.10.7 64-bit ('dev_IA1')",
   "language": "python",
   "name": "python3"
  },
  "language_info": {
   "name": "python",
   "version": "3.10.7"
  },
  "orig_nbformat": 4,
  "vscode": {
   "interpreter": {
    "hash": "5a0b5c0080bb0d79129aa728c896d15cc0e4d4b9de925754bfcd3a148409f9ed"
   }
  }
 },
 "nbformat": 4,
 "nbformat_minor": 2
}
